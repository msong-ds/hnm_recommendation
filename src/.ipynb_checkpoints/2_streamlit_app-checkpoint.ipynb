{
 "cells": [
  {
   "cell_type": "markdown",
   "id": "efabb640-1c70-4864-8c75-132637281329",
   "metadata": {},
   "source": [
    "This project is inspired by H&M Transactions Data.\n",
    "\n",
    "Customer segmentation is important in understanding and discovering new opportunities to improve the business metrics.\n",
    "\n",
    "The dataset was originally provided by H&M.(put link).\n",
    "I aggregated the dataset to represent the customers' shopping pattern.\n",
    "The features of the new dataset are the number of items that each customer bought in each category.\n",
    "I identified 9 clusters using K-means clustering.\n",
    "For more details about the process, please refer to the clustering notebook in the repo.\n",
    "\n",
    "Now let's take a look at the clusters in detail."
   ]
  },
  {
   "cell_type": "markdown",
   "id": "021169c2-8c17-4ed0-aec8-8774819a6c9b",
   "metadata": {},
   "source": [
    "## Scatter Plot of Each Customer\n",
    "There are 20 features, thus, the dimension was reduced to two in order to be plotted on a 2D plot."
   ]
  },
  {
   "cell_type": "code",
   "execution_count": 41,
   "id": "aa8c4ee3-6dad-4243-af11-9fbad48a630e",
   "metadata": {},
   "outputs": [],
   "source": [
    "asdf = {4:1}"
   ]
  },
  {
   "cell_type": "code",
   "execution_count": 42,
   "id": "0bc5b20a-c4f7-4258-ae81-a568c63d1906",
   "metadata": {},
   "outputs": [
    {
     "data": {
      "text/plain": [
       "1"
      ]
     },
     "execution_count": 42,
     "metadata": {},
     "output_type": "execute_result"
    }
   ],
   "source": [
    "asdf[4]"
   ]
  },
  {
   "cell_type": "code",
   "execution_count": 43,
   "id": "5ac4d536-2ac3-4399-9ba1-2dad767c448e",
   "metadata": {},
   "outputs": [],
   "source": [
    "description = {4: \"\"\"This cluster accounts for 44% of the whole customers. Its purchases are mostly distributed among Divided, Womens Everyday Collection, and Lingeries/Tights.\n",
    "                The cluster buys items from various categories, while other clusters buy mostly from one categories.\"\"\",\n",
    "               3: \"\"\"This cluster accounts for 15% of the whole customers. Its purchases are are mostly from Divided Category. Since the Divided category is targeted for the younger female customers,\n",
    "               We can guess that the customers in this cluster are younger than other clusters\"\"\",\n",
    "               2: \"\"\"This cluster accounts for 13% of the whole customers. Its purchases are are mostly from Lingerie/Tights Category.\"\"\",\n",
    "               5: \"\"\"This cluster accounts for 10% of the whole customers. Its purchases are are mostly from Womans Everyday Collection Category.\"\"\",\n",
    "               1: \"\"\"This cluster accounts for 5% of the whole customers. Its purchases are are mostly from Womans Tailoring Category.\"\"\",\n",
    "               0: \"\"\"This cluster accounts for 4% of the whole customers. Its purchases are are mostly from Menswear Category. We may assume that most of the customer will be male.\n",
    "               It is interesting that they also buy from Woman's Categories.\"\"\",\n",
    "               7: \"\"\"This cluster accounts for 4% of the whole customers. Its purchases are are mostly from Baby/Children Category.\"\"\",\n",
    "               6: \"\"\"This cluster accounts for 3% of the whole customers. Its purchases are are mostly from Sport Category.\"\"\",\n",
    "               8: \"\"\"This cluster accounts for 2% of the whole customers. Its purchases are are mostly from Ladies Accessories Category.\"\"\"\n",
    "              }\n"
   ]
  },
  {
   "cell_type": "code",
   "execution_count": 44,
   "id": "45e676cd-a651-48cc-aaa5-23c3cb8dfde5",
   "metadata": {},
   "outputs": [
    {
     "data": {
      "text/plain": [
       "'This cluster accounts for 43% of the customers. Its basket share is distributed mainly among Divided, Womens Everyday Collection, and Lingeries/Tights.\\n                The cluster buys items from various categories, while other clusters buy mostly from one categories.'"
      ]
     },
     "execution_count": 44,
     "metadata": {},
     "output_type": "execute_result"
    }
   ],
   "source": [
    "description[4]"
   ]
  },
  {
   "cell_type": "code",
   "execution_count": null,
   "id": "58774b5c-ee50-4871-8397-3dfe28df039d",
   "metadata": {},
   "outputs": [],
   "source": []
  }
 ],
 "metadata": {
  "kernelspec": {
   "display_name": "Python 3 (ipykernel)",
   "language": "python",
   "name": "python3"
  },
  "language_info": {
   "codemirror_mode": {
    "name": "ipython",
    "version": 3
   },
   "file_extension": ".py",
   "mimetype": "text/x-python",
   "name": "python",
   "nbconvert_exporter": "python",
   "pygments_lexer": "ipython3",
   "version": "3.7.11"
  }
 },
 "nbformat": 4,
 "nbformat_minor": 5
}
